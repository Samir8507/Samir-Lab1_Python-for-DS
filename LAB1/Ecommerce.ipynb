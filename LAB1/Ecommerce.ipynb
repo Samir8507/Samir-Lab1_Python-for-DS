{
 "cells": [
  {
   "cell_type": "code",
   "execution_count": null,
   "id": "dff966d8",
   "metadata": {},
   "outputs": [],
   "source": [
    "pip install mysql-connector-python"
   ]
  },
  {
   "cell_type": "code",
   "execution_count": null,
   "id": "795da3a2",
   "metadata": {},
   "outputs": [],
   "source": [
    "import mysql.connector\n",
    "import pandas as pd"
   ]
  },
  {
   "cell_type": "code",
   "execution_count": null,
   "id": "3ca8249c",
   "metadata": {},
   "outputs": [],
   "source": [
    "import mysql.connector\n",
    "connection = mysql.connector.connect(\n",
    "        host = \"localhost\",\n",
    "        user = \"root\",\n",
    "        passwd = \"Samir@\"\n",
    "   ) \n",
    "cursorobject = connection.cursor()\n",
    "cursorobject.execute(\"create database e_commerce\")\n",
    "connection.close()"
   ]
  },
  {
   "cell_type": "code",
   "execution_count": null,
   "id": "fef77a27",
   "metadata": {},
   "outputs": [],
   "source": [
    "connection = mysql.connector.connect(\n",
    "        host = \"localhost\",\n",
    "        user = \"root\",\n",
    "        passwd = \"Samir@\",\n",
    "        database = \"e_commerce\"\n",
    "   ) \n",
    "cursorobject = connection.cursor()\n",
    "quary1 = \"\"\"\n",
    "        create table supplier(SUPP_ID int primary key, \n",
    "      SUPP_NAME varchar(50), SUPP_CITY varchar(50), SUPP_PHONE varchar(10));\n",
    "      create table customer(CUS_ID int not null, CUS_NAME varchar(20) null default null,\n",
    "      CUS_PHONE varchar(10), CUS_CITY varchar(30), CUS_GENDER char,\n",
    "      primary key(CUS_ID));\n",
    "      create table category(CAT_ID int not null, CAT_NAME varchar(20)\n",
    "      null default null, primary key(CAT_ID));\n",
    "      create table product(PRO_ID int not null, PRO_NAME varchar(20)\n",
    "      null default null, PRO_DESC varchar(60) null default null, \n",
    "      CAT_ID int not null,\n",
    "      primary key (PRO_ID), foreign key(CAT_ID) references category(CAT_ID));\n",
    "      create table product_details(PROD_ID int not null, PRO_ID int not null,\n",
    "      SUPP_ID int not null, PROD_PRICE int not null, primary key(PROD_ID),\n",
    "      foreign key (PRO_ID) references product(PRO_ID), foreign key(SUPP_ID)\n",
    "      references supplier(SUPP_ID));\n",
    "      create table orders(ORD_ID int not null, ORD_AMOUNT int not null, ORD_DATE date,\n",
    "      CUS_ID int not null, PROD_ID int not null, primary key(ORD_ID), foreign key(CUS_ID)\n",
    "      references product_details(PROD_ID));\n",
    "      create table rating(RAT_ID int not null, CUS_ID int not null, SUPP_ID int not null,\n",
    "      RAT_RATSTARS int not null, primary key(RAT_ID), foreign key(SUPP_ID)\n",
    "      references supplier(SUPP_ID), foreign key(CUS_ID) references customer(CUS_ID))\"\"\"\n",
    "cursorobject.execute(quary1)"
   ]
  },
  {
   "cell_type": "code",
   "execution_count": null,
   "id": "8449161d",
   "metadata": {},
   "outputs": [],
   "source": [
    "Query3 = \"\"\"select customer.cus.gender, count(customer.cus_gender) as count\n",
    "          from customer inner join orders on customer.cus_id= orders.cus_id\n",
    "          where orders.ord_amount>=3000 group by customer.cus_gender;\"\"\"\n",
    "cursorobject.execute(Quary3)\n",
    "output = cursorobject.fetchall()\n",
    "output_df = pd.Dataframe(output, columns=['CUS_GENDER','COUNT'])\n",
    "output_df"
   ]
  },
  {
   "cell_type": "code",
   "execution_count": null,
   "id": "19004ae3",
   "metadata": {},
   "outputs": [],
   "source": [
    "query4= \"\"\"select orders.*,product.pro_name\n",
    "            from orders,product_details,product\n",
    "            where orders.cus_id=2 and orders.prod_id=product_details.prod_id and product_details.pro_id=product.pro_id;\"\"\"\n",
    "cursorobject.execute(query4)\n",
    "output = cursorobject.fetchall()\n",
    "output_df = pd.DataFrame(output,columns=['ORD_ID','ORD_AMOUNT','ORD_DATE','PROD_ID','PRO_NAME'])\n",
    "output_df"
   ]
  },
  {
   "cell_type": "code",
   "execution_count": null,
   "id": "ff93fd38",
   "metadata": {},
   "outputs": [],
   "source": [
    "query5= \"\"\"select supplier.*\n",
    "            from supplier,product_details\n",
    "            where supplier.supp_id in\n",
    "            (select product_details.supp_id from product_details\n",
    "            group by product_details.supp_id having count(product_details.supp_id)>1)\n",
    "            group by supplier.supp_id\"\"\"\n",
    "cursorobject.execute(query5)\n",
    "output = cursorobject.fetchall()\n",
    "output_df = pd.DataFrame(output,columns=['SUPP_ID','SUPP_NAME','SUPP_CITY','SUPP_PHONE'])\n",
    "output_df"
   ]
  },
  {
   "cell_type": "code",
   "execution_count": null,
   "id": "b6c05019",
   "metadata": {},
   "outputs": [],
   "source": [
    "quary6= \"\"\"select category.*\n",
    "            from orders inner join product_details on orders.prod_id=product_details.prod_id\n",
    "            inner join product on product.pro_id=product_details.pro_id\n",
    "            inner join category on category.cat_id=product.cat_id having min(orders.ord_amount)\"\"\"\n",
    "cursorobject.execute(query6)\n",
    "output = cursorobject.fetchall()\n",
    "output_df = pd.DataFrame(output, columns=['CAT_ID','CAT_NAME'])\n",
    "output_df"
   ]
  },
  {
   "cell_type": "code",
   "execution_count": null,
   "id": "28f2f31b",
   "metadata": {},
   "outputs": [],
   "source": [
    "query7= \"\"\"select product.pro_id,product.pro_name\n",
    "           from orders inner join product_details on product_details.prod_id=orders.prod_id\n",
    "           inner join product on product.pro_id=product_details.pro_id where orders.ord_date>\"2021-10-05\";\"\"\"\n",
    "cursorobject.execute(query7)\n",
    "output = cursorobject.fetchall()\n",
    "output_df = pd.DataFrame(output, columns=['PRO_ID','PRO_NAME'])\n",
    "output_df"
   ]
  },
  {
   "cell_type": "code",
   "execution_count": null,
   "id": "e0f3d3e2",
   "metadata": {},
   "outputs": [],
   "source": [
    "query8= \"\"\"select supplier.supp_id,supplier.supp_name,customer.cus_name,rating.rat_ratstars\n",
    "           from rating inner join supplier on rating.supp_id=supplier.supp_id\n",
    "           inner join customer on rating.cus_id=customer.cus_id order by rating.rat_ratstars desc limit 3;\"\"\"\n",
    "cursorobject.execute(query8)\n",
    "output = cursorobject.fetchall()\n",
    "output_df = pd.DataFrame(output, columns=['SUPP_ID','SUPP_NAME','CUS_NAME','RAT_RATSTARS'])\n",
    "output_df"
   ]
  },
  {
   "cell_type": "code",
   "execution_count": null,
   "id": "e05c9570",
   "metadata": {},
   "outputs": [],
   "source": [
    "query9= \"\"\"select customer.cus_name,customer.cus_gender\n",
    "           from customer where customer.cus_name like 'A%'or customer.cus_name like '%A';\"\"\"\n",
    "cursorobject.execute(query9)\n",
    "output=cursorobject.fetchall()\n",
    "output_df= pd.DataFrame(output, columns=['CUS_NAME','CUS_GENDER'])\n",
    "output_df"
   ]
  },
  {
   "cell_type": "code",
   "execution_count": null,
   "id": "a998d140",
   "metadata": {},
   "outputs": [],
   "source": [
    "query10= \"\"\"select sum(orders.ord_amount)as Amount\n",
    "            from orders inner join customer on orders.cus_id=customer.cus_id where customer.cus_gender='M;'\"\"\"\n",
    "cursorobject.execute(query10)\n",
    "output =cursorobject.fetchall()\n",
    "print(\"Amount is\", output);"
   ]
  },
  {
   "cell_type": "code",
   "execution_count": null,
   "id": "2d81bd22",
   "metadata": {},
   "outputs": [],
   "source": [
    "query11= \"\"\"select* from customer left outer join orders on cumstomer.cus_id=orders.cus_id;\"\"\"\n",
    "cursorobject.execute(query11)\n",
    "output= cursorobject.fetchall()\n",
    "output_df = pd.DataFrame(output, columns=['CUS_ID','CUS_NAME','CUS_PHONE','CUS_CITY','CUS_GENDER','ORD_ID','ORD_AMOUNT','ORD_DATE','CUS_ID','PROD_ID'])\n",
    "output_df"
   ]
  }
 ],
 "metadata": {
  "kernelspec": {
   "display_name": "Python 3 (ipykernel)",
   "language": "python",
   "name": "python3"
  },
  "language_info": {
   "codemirror_mode": {
    "name": "ipython",
    "version": 3
   },
   "file_extension": ".py",
   "mimetype": "text/x-python",
   "name": "python",
   "nbconvert_exporter": "python",
   "pygments_lexer": "ipython3",
   "version": "3.11.4"
  }
 },
 "nbformat": 4,
 "nbformat_minor": 5
}
